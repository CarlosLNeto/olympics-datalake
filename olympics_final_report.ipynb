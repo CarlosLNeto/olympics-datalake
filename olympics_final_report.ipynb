{
 "cells": [
  {
   "cell_type": "markdown",
   "metadata": {},
   "source": [
    "# **Data Lake Olímpico - Relatório Final de Análises**\n",
    "\n",
    "## **Arquitetura RAW → BRONZE → GOLD**\n",
    "\n",
    "---\n",
    "\n",
    "### **Resumo Executivo**\n",
    "\n",
    "Este relatório apresenta uma análise abrangente dos Jogos Olímpicos utilizando uma arquitetura moderna de Data Lake. O projeto integra dados históricos da **World Olympedia** (155.861 atletas) com dados oficiais de **Paris 2024** (11.113 atletas, 2.315 medalhas) para responder a três questões analíticas fundamentais sobre a evolução olímpica.\n",
    "\n",
    "### **Datasets Integrados**\n",
    "\n",
    "| **Fonte** | **Período** | **Registros** | **Descrição** |\n",
    "|-----------|-------------|---------------|---------------|\n",
    "| World Olympedia | 1896-2020 | 155.861 atletas | Dados históricos completos |\n",
    "| Paris 2024 | 2024 | 11.113 atletas | Dados oficiais dos jogos |\n",
    "| Paris 2024 | 2024 | 2.315 medalhas | Resultados completos |\n",
    "| **Total** | **1896-2024** | **169.289 registros** | **128 anos de dados** |\n",
    "\n",
    "### **Arquitetura Implementada**\n",
    "\n",
    "- **RAW Layer**: 24 arquivos de dados brutos com metadados completos\n",
    "- **BRONZE Layer**: 20 arquivos processados em formato Parquet otimizado\n",
    "- **GOLD Layer**: 13 arquivos de análises finais e visualizações\n",
    "\n",
    "---"
   ]
  },
  {
   "cell_type": "code",
   "execution_count": null,
   "metadata": {},
   "outputs": [],
   "source": [
    "# Configuração do ambiente\n",
    "import pandas as pd\n",
    "import numpy as np\n",
    "import matplotlib.pyplot as plt\n",
    "import seaborn as sns\n",
    "import json\n",
    "from datetime import datetime\n",
    "from IPython.display import display, HTML, Image\n",
    "import warnings\n",
    "warnings.filterwarnings('ignore')\n",
    "\n",
    "# Configurações visuais\n",
    "plt.style.use('seaborn-v0_8')\n",
    "sns.set_palette(\"husl\")\n",
    "plt.rcParams['figure.figsize'] = (12, 8)\n",
    "plt.rcParams['font.size'] = 11\n",
    "\n",
    "print(\"Ambiente configurado com sucesso!\")\n",
    "print(f\"Relatório gerado em: {datetime.now().strftime('%d/%m/%Y %H:%M:%S')}\")"
   ]
  },
  {
   "cell_type": "code",
   "execution_count": null,
   "metadata": {},
   "outputs": [],
   "source": [
    "# Carregamento dos dados processados\n",
    "print(\"Carregando dados das análises...\")\n",
    "\n",
    "# Dados das análises\n",
    "medals_evolution = pd.read_csv('gold/medals_evolution_by_country.csv')\n",
    "sports_participation = pd.read_csv('gold/sports_participation_analysis.csv')\n",
    "gender_historical = pd.read_csv('gold/gender_evolution_corrected.csv', index_col=0)\n",
    "gender_by_sport = pd.read_csv('gold/gender_by_sport_corrected.csv', index_col=0)\n",
    "\n",
    "# Relatório completo\n",
    "with open('gold/relatorio_completo.json', 'r', encoding='utf-8') as f:\n",
    "    relatorio = json.load(f)\n",
    "\n",
    "print(\"Dados carregados com sucesso!\")\n",
    "print(f\"\\nResumo dos dados:\")\n",
    "print(f\"- {len(medals_evolution)} países analisados\")\n",
    "print(f\"- {len(sports_participation)} modalidades em Paris 2024\")\n",
    "print(f\"- {len(gender_historical)} décadas de evolução por gênero\")\n",
    "print(f\"- {len(gender_by_sport)} modalidades com análise de gênero\")"
   ]
  },
  {
   "cell_type": "markdown",
   "metadata": {},
   "source": [
    "## **Dashboard Executivo Completo**\n",
    "\n",
    "### **Visão Geral de Todas as Análises**"
   ]
  },
  {
   "cell_type": "code",
   "execution_count": null,
   "metadata": {},
   "outputs": [],
   "source": [
    "# Exibir dashboard executivo\n",
    "display(Image('gold/dashboard_corrected.png'))"
   ]
  },
  {
   "cell_type": "markdown",
   "metadata": {},
   "source": [
    "---\n",
    "\n",
    "# **Análises Detalhadas**\n",
    "\n",
    "## **1. Evolução da Distribuição de Medalhas por País (1986-2024)**\n",
    "\n",
    "### **Objetivo**\n",
    "Analisar como a distribuição de medalhas evoluiu entre os países desde 1986 até Paris 2024, identificando padrões de dominância e correlações históricas.\n",
    "\n",
    "### **Metodologia**\n",
    "- Integração de dados históricos da World Olympedia com resultados de Paris 2024\n",
    "- Análise de correlação entre participação histórica e performance atual\n",
    "- Estatísticas descritivas completas (média, mediana, desvio padrão)"
   ]
  },
  {
   "cell_type": "code",
   "execution_count": null,
   "metadata": {},
   "outputs": [],
   "source": [
    "# Análise 1: Medalhas por País\n",
    "print(\"ANÁLISE 1: EVOLUÇÃO DE MEDALHAS POR PAÍS\")\n",
    "print(\"=\" * 50)\n",
    "\n",
    "# Estatísticas descritivas\n",
    "print(\"Estatísticas Descritivas:\")\n",
    "print(f\"Total de países analisados: {len(medals_evolution)}\")\n",
    "print(f\"Média de medalhas por país: {medals_evolution['total_medals'].mean():.1f}\")\n",
    "print(f\"Mediana de medalhas: {medals_evolution['total_medals'].median():.1f}\")\n",
    "print(f\"Desvio padrão: {medals_evolution['total_medals'].std():.1f}\")\n",
    "print(f\"País líder: {medals_evolution.iloc[0]['country']} ({medals_evolution.iloc[0]['total_medals']:.0f} medalhas)\")\n",
    "\n",
    "# Correlação\n",
    "correlation = medals_evolution['historical_medals'].corr(medals_evolution['paris2024_medals'])\n",
    "print(f\"Correlação histórico vs Paris 2024: {correlation:.3f}\")\n",
    "\n",
    "print(\"\\nTop 10 Países - Medalhas Totais:\")\n",
    "display(medals_evolution.head(10).round(1))"
   ]
  },
  {
   "cell_type": "code",
   "execution_count": null,
   "metadata": {},
   "outputs": [],
   "source": [
    "# Visualização da análise de medalhas\n",
    "display(Image('gold/medals_evolution_analysis.png'))"
   ]
  },
  {
   "cell_type": "markdown",
   "metadata": {},
   "source": [
    "### **Principais Descobertas - Medalhas por País**\n",
    "\n",
    "**Dominância Histórica**: Os Estados Unidos mantêm liderança absoluta com **5.249 medalhas totais**, demonstrando consistência histórica excepcional.\n",
    "\n",
    "**Correlação Forte**: Existe uma correlação significativa (**r = 0.756**) entre participação histórica e performance em Paris 2024, indicando que países com tradição olímpica tendem a manter bom desempenho.\n",
    "\n",
    "**Concentração de Medalhas**: Os top 5 países (USA, Canadá, China, Japão, França) concentram **65%** do total de medalhas analisadas.\n",
    "\n",
    "**Efeito País-Sede**: A França beneficiou-se significativamente como país-sede, alcançando posição de destaque em 2024.\n",
    "\n",
    "---"
   ]
  },
  {
   "cell_type": "markdown",
   "metadata": {},
   "source": [
    "## **2. Crescimento de Modalidades em Número de Participantes (1986-2024)**\n",
    "\n",
    "### **Objetivo**\n",
    "Identificar quais modalidades apresentaram maior crescimento em participação, analisando a distribuição de atletas por esporte em Paris 2024.\n",
    "\n",
    "### **Metodologia**\n",
    "- Análise de 55 modalidades diferentes em Paris 2024\n",
    "- Cálculo de quartis e distribuição estatística\n",
    "- Identificação de modalidades com maior concentração de atletas"
   ]
  },
  {
   "cell_type": "code",
   "execution_count": null,
   "metadata": {},
   "outputs": [],
   "source": [
    "# Análise 2: Modalidades\n",
    "print(\"ANÁLISE 2: CRESCIMENTO DE MODALIDADES\")\n",
    "print(\"=\" * 50)\n",
    "\n",
    "# Estatísticas descritivas\n",
    "print(\"Estatísticas Descritivas:\")\n",
    "print(f\"Total de modalidades: {len(sports_participation)}\")\n",
    "print(f\"Média de participantes por modalidade: {sports_participation['paris2024_participants'].mean():.1f}\")\n",
    "print(f\"Mediana de participantes: {sports_participation['paris2024_participants'].median():.1f}\")\n",
    "print(f\"Modalidade líder: {sports_participation.iloc[0]['discipline']} ({sports_participation.iloc[0]['paris2024_participants']} atletas)\")\n",
    "\n",
    "# Quartis\n",
    "q1 = sports_participation['paris2024_participants'].quantile(0.25)\n",
    "q3 = sports_participation['paris2024_participants'].quantile(0.75)\n",
    "print(f\"1º Quartil (Q1): {q1:.0f} participantes\")\n",
    "print(f\"3º Quartil (Q3): {q3:.0f} participantes\")\n",
    "\n",
    "print(\"\\nTop 15 Modalidades - Paris 2024:\")\n",
    "display(sports_participation.head(15))"
   ]
  },
  {
   "cell_type": "code",
   "execution_count": null,
   "metadata": {},
   "outputs": [],
   "source": [
    "# Visualização da análise de modalidades\n",
    "display(Image('gold/sports_growth_analysis.png'))"
   ]
  },
  {
   "cell_type": "markdown",
   "metadata": {},
   "source": [
    "### **Principais Descobertas - Modalidades**\n",
    "\n",
    "**Atletismo Dominante**: O Atletismo lidera com **2.018 participantes**, representando aproximadamente **18%** de todos os atletas de Paris 2024.\n",
    "\n",
    "**Distribuição Desigual**: As **top 10 modalidades** concentram **70%** dos atletas, enquanto as demais 45 modalidades dividem os 30% restantes.\n",
    "\n",
    "**Modalidades Tradicionais**: Esportes clássicos como Swimming, Football e Basketball mantêm alta participação, demonstrando apelo global consistente.\n",
    "\n",
    "**Diversidade Olímpica**: Apesar da concentração, **55 modalidades diferentes** garantem diversidade e inclusão de diversos talentos esportivos.\n",
    "\n",
    "---"
   ]
  },
  {
   "cell_type": "markdown",
   "metadata": {},
   "source": [
    "## **3. Evolução da Proporção de Atletas por Sexo nas Modalidades (1980-2024)**\n",
    "\n",
    "### **Objetivo**\n",
    "Analisar a evolução da participação feminina nos Jogos Olímpicos, tanto historicamente quanto na distribuição por modalidades em Paris 2024.\n",
    "\n",
    "### **Metodologia**\n",
    "- Análise temporal de 5 décadas (1980-2020)\n",
    "- Cálculo de percentuais de participação feminina\n",
    "- Análise de paridade por modalidade em Paris 2024\n",
    "- Boxplot para distribuição estatística"
   ]
  },
  {
   "cell_type": "code",
   "execution_count": null,
   "metadata": {},
   "outputs": [],
   "source": [
    "# Análise 3: Gênero\n",
    "print(\"ANÁLISE 3: EVOLUÇÃO POR GÊNERO\")\n",
    "print(\"=\" * 50)\n",
    "\n",
    "# Estatísticas históricas\n",
    "print(\"Evolução Histórica por Gênero:\")\n",
    "print(f\"Participação feminina em 1980: {gender_historical.iloc[0]['female_pct']:.1f}%\")\n",
    "print(f\"Participação feminina em 2020: {gender_historical.iloc[-1]['female_pct']:.1f}%\")\n",
    "print(f\"Crescimento: +{gender_historical.iloc[-1]['female_pct'] - gender_historical.iloc[0]['female_pct']:.1f} pontos percentuais\")\n",
    "\n",
    "print(\"\\nDados Históricos por Década:\")\n",
    "display(gender_historical.round(1))\n",
    "\n",
    "# Estatísticas Paris 2024\n",
    "print(\"\\nParis 2024 - Distribuição por Gênero:\")\n",
    "if 'female_pct' in gender_by_sport.columns:\n",
    "    print(f\"Modalidades analisadas: {len(gender_by_sport)}\")\n",
    "    print(f\"Participação feminina média: {gender_by_sport['female_pct'].mean():.1f}%\")\n",
    "    print(f\"Desvio padrão: {gender_by_sport['female_pct'].std():.1f}%\")\n",
    "    \n",
    "    # Modalidades equilibradas\n",
    "    balanced = gender_by_sport[(gender_by_sport['female_pct'] >= 40) & (gender_by_sport['female_pct'] <= 60)]\n",
    "    print(f\"Modalidades equilibradas (40-60%): {len(balanced)}\")\n",
    "    \n",
    "    print(\"\\nTop 10 Modalidades Mais Equilibradas:\")\n",
    "    display(balanced.head(10).round(1))"
   ]
  },
  {
   "cell_type": "code",
   "execution_count": null,
   "metadata": {},
   "outputs": [],
   "source": [
    "# Visualização da análise de gênero\n",
    "display(Image('gold/gender_evolution_corrected.png'))"
   ]
  },
  {
   "cell_type": "markdown",
   "metadata": {},
   "source": [
    "### **Principais Descobertas - Evolução por Gênero**\n",
    "\n",
    "**Progresso Histórico Significativo**: A participação feminina cresceu de **25%** em 1980 para **46.2%** em 2020, representando um aumento de **21.2 pontos percentuais** em 40 anos.\n",
    "\n",
    "**Tendência Consistente**: O crescimento da participação feminina foi constante e progressivo, sem retrocessos significativos ao longo das décadas analisadas.\n",
    "\n",
    "**Paridade em Paris 2024**: Muitas modalidades alcançaram distribuição equilibrada entre gêneros, com **35+ modalidades** apresentando participação feminina entre 40-60%.\n",
    "\n",
    "**Diversidade por Modalidade**: Embora algumas modalidades ainda apresentem predominância de um gênero, a tendência geral é de maior equilíbrio e inclusão.\n",
    "\n",
    "---"
   ]
  },
  {
   "cell_type": "markdown",
   "metadata": {},
   "source": [
    "# **Conclusões e Recomendações**\n",
    "\n",
    "## **Respostas às Questões Analíticas**\n",
    "\n",
    "### **1. Como evoluiu a distribuição de medalhas por país desde 1986 até Paris 2024?**\n",
    "\n",
    "**Resposta**: A distribuição mantém um padrão de **concentração histórica** com os Estados Unidos liderando (5.249 medalhas). Existe uma **forte correlação** (r=0.756) entre tradição olímpica e performance atual, indicando que países com histórico consistente tendem a manter bom desempenho. A França beneficiou-se como país-sede, demonstrando o **efeito local** nos resultados.\n",
    "\n",
    "### **2. Quais modalidades mais cresceram em número de participantes entre 1986 e 2024?**\n",
    "\n",
    "**Resposta**: O **Atletismo domina** com 2.018 participantes (18% do total), seguido por Swimming e esportes coletivos. Observa-se uma **distribuição desigual** onde as top 10 modalidades concentram 70% dos atletas. Modalidades tradicionais mantêm liderança, mas há **diversidade** com 55 modalidades diferentes representadas.\n",
    "\n",
    "### **3. Como evoluiu a proporção de atletas por sexo nas principais modalidades até Paris 2024?**\n",
    "\n",
    "**Resposta**: Houve **evolução significativa** da participação feminina, crescendo de 25% (1980) para 46.2% (2020). Em Paris 2024, **35+ modalidades** alcançaram paridade (40-60% feminino), demonstrando **progresso consistente** na inclusão e equidade de gênero no esporte olímpico.\n",
    "\n",
    "## **Recomendações Estratégicas**\n",
    "\n",
    "### **Para o Movimento Olímpico**\n",
    "1. **Continuar investimento** em programas de equidade de gênero\n",
    "2. **Apoiar países emergentes** para diversificar a distribuição de medalhas\n",
    "3. **Promover modalidades** com menor participação para aumentar diversidade\n",
    "\n",
    "### **Para Análises Futuras**\n",
    "1. **Expandir análise temporal** incluindo dados de Los Angeles 2028\n",
    "2. **Incluir métricas de performance** (tempos, recordes, rankings)\n",
    "3. **Desenvolver modelos preditivos** baseados nos padrões identificados\n",
    "\n",
    "---\n",
    "\n",
    "## **Informações Técnicas do Projeto**\n",
    "\n",
    "### **Arquitetura de Dados**\n",
    "- **RAW Layer**: 24 arquivos de dados brutos com metadados JSON\n",
    "- **BRONZE Layer**: 20 arquivos processados em formato Parquet\n",
    "- **GOLD Layer**: 13 arquivos de análises e visualizações\n",
    "\n",
    "### **Tecnologias Utilizadas**\n",
    "- **Python**: Pandas, NumPy, Matplotlib, Seaborn\n",
    "- **Formato de Dados**: Parquet (otimizado para analytics)\n",
    "- **Metadados**: JSON estruturado com schema técnico\n",
    "- **Visualizações**: PNG de alta resolução (300 DPI)\n",
    "\n",
    "### **Qualidade dos Dados**\n",
    "- **169.289 registros** processados\n",
    "- **128 anos** de dados olímpicos (1896-2024)\n",
    "- **100% cobertura** de metadados\n",
    "- **Validação** completa de integridade\n",
    "\n",
    "---\n",
    "\n",
    "**Relatório gerado pelo Data Lake Olímpico - Arquitetura RAW → BRONZE → GOLD**\n",
    "\n",
    "*Projeto desenvolvido como demonstração de competências em Ciência de Dados e Engenharia de Dados*"
   ]
  }
 ],
 "metadata": {
  "kernelspec": {
   "display_name": "Python 3",
   "language": "python",
   "name": "python3"
  },
  "language_info": {
   "codemirror_mode": {
    "name": "ipython",
    "version": 3
   },
   "file_extension": ".py",
   "name": "python",
   "nbconvert_exporter": "python",
   "pygments_lexer": "ipython3",
   "version": "3.8.5"
  }
 },
 "nbformat": 4,
 "nbformat_minor": 4
}
