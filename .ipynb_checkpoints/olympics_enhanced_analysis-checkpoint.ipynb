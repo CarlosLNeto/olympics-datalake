{
 "cells": [
  {
   "cell_type": "markdown",
   "metadata": {},
   "source": [
    "# 🏅 ANÁLISE COMPLETA DOS JOGOS OLÍMPICOS (1986-2024)\n",
    "\n",
    "## 📊 Data Lake com Arquitetura RAW → BRONZE → GOLD\n",
    "\n",
    "---\n",
    "\n",
    "### 🎯 **PERGUNTAS ANALÍTICAS RESPONDIDAS:**\n",
    "\n",
    "1. **Como evoluiu a distribuição de medalhas por país desde 1986 até Paris 2024?**\n",
    "2. **Quais modalidades mais cresceram em número de participantes entre 1986 e 2024?**\n",
    "3. **Como evoluiu a proporção de atletas por sexo nas principais modalidades até Paris 2024?**\n",
    "\n",
    "### 📋 **DATASETS INTEGRADOS:**\n",
    "- **World Olympedia**: 155.861 atletas históricos\n",
    "- **Paris 2024**: 11.113 atletas, 2.315 medalhas\n",
    "- **Total**: 55 modalidades analisadas\n",
    "\n",
    "---"
   ]
  },
  {
   "cell_type": "code",
   "execution_count": null,
   "metadata": {},
   "outputs": [],
   "source": [
    "# 🔧 CONFIGURAÇÃO DO AMBIENTE\n",
    "import pandas as pd\n",
    "import numpy as np\n",
    "import matplotlib.pyplot as plt\n",
    "import seaborn as sns\n",
    "import json\n",
    "from datetime import datetime\n",
    "from IPython.display import display, HTML, Image\n",
    "import warnings\n",
    "warnings.filterwarnings('ignore')\n",
    "\n",
    "# Configurações visuais\n",
    "plt.style.use('seaborn-v0_8')\n",
    "sns.set_palette(\"husl\")\n",
    "plt.rcParams['figure.figsize'] = (12, 8)\n",
    "plt.rcParams['font.size'] = 11\n",
    "\n",
    "print(\"🏅 AMBIENTE CONFIGURADO COM SUCESSO!\")\n",
    "print(f\"📅 Análise executada em: {datetime.now().strftime('%d/%m/%Y %H:%M:%S')}\")\n",
    "print(\"\\n\" + \"=\"*60)\n",
    "print(\"🚀 INICIANDO ANÁLISES OLÍMPICAS COMPLETAS\")\n",
    "print(\"=\"*60)"
   ]
  },
  {
   "cell_type": "markdown",
   "metadata": {},
   "source": [
    "## 📊 CARREGAMENTO DOS DADOS PROCESSADOS\n",
    "\n",
    "### Dados da Camada GOLD - Análises Finalizadas"
   ]
  },
  {
   "cell_type": "code",
   "execution_count": null,
   "metadata": {},
   "outputs": [],
   "source": [
    "# 📥 CARREGAMENTO DOS DADOS DAS ANÁLISES\n",
    "print(\"📥 Carregando dados das análises finalizadas...\")\n",
    "\n",
    "# Carregar dados das análises\n",
    "medals_evolution = pd.read_csv('gold/medals_evolution_by_country.csv', index_col=0)\n",
    "sports_participation = pd.read_csv('gold/sports_participation_analysis.csv', index_col=0)\n",
    "gender_historical = pd.read_csv('gold/gender_evolution_historical.csv', index_col=0)\n",
    "gender_by_sport = pd.read_csv('gold/gender_by_sport_paris2024.csv', index_col=0)\n",
    "\n",
    "# Carregar relatório completo\n",
    "with open('gold/relatorio_completo.json', 'r', encoding='utf-8') as f:\n",
    "    relatorio = json.load(f)\n",
    "\n",
    "print(\"✅ Dados carregados com sucesso!\")\n",
    "print(f\"\\n📊 RESUMO DOS DADOS:\")\n",
    "print(f\"   🏆 {len(medals_evolution)} países analisados\")\n",
    "print(f\"   🏃 {len(sports_participation)} modalidades em Paris 2024\")\n",
    "print(f\"   ⚖️ {len(gender_historical)} décadas de evolução por gênero\")\n",
    "print(f\"   🥇 {len(gender_by_sport)} modalidades com análise de gênero\")"
   ]
  },
  {
   "cell_type": "markdown",
   "metadata": {},
   "source": [
    "## 🏆 ANÁLISE 1: EVOLUÇÃO DE MEDALHAS POR PAÍS (1986-2024)\n",
    "\n",
    "### 📈 Estatística Descritiva e Visualizações"
   ]
  },
  {
   "cell_type": "code",
   "execution_count": null,
   "metadata": {},
   "outputs": [],
   "source": [
    "# 🏆 ANÁLISE 1: MEDALHAS POR PAÍS",
    "print(\"🏆 ANÁLISE 1: EVOLUÇÃO DE MEDALHAS POR PAÍS\")",
    "print(\"=\" * 50)",
    "",
    "# Estatísticas descritivas",
    "print(\"📊 ESTATÍSTICAS DESCRITIVAS:\")",
    "print(f\"   Total de países analisados: {len(medals_evolution)}\")",
    "print(f\"   Média de medalhas por país: {medals_evolution['total_medals'].mean():.1f}\")",
    "print(f\"   Mediana de medalhas: {medals_evolution['total_medals'].median():.1f}\")",
    "print(f\"   Desvio padrão: {medals_evolution['total_medals'].std():.1f}\")",
    "print(f\"   País líder: {medals_evolution.index[0]} ({medals_evolution.iloc[0]['total_medals']:.0f} medalhas)\")",
    "",
    "# Mostrar dados detalhados",
    "print(\"\\n🏅 TOP 10 PAÍSES - MEDALHAS TOTAIS:\")",
    "display(medals_evolution.head(10).round(1))",
    "",
    "# Exibir gráfico",
    "print(\"\\n📊 VISUALIZAÇÃO:\")",
    "display(Image('gold/medals_evolution_analysis.png'))"
   ]
  },
  {
   "cell_type": "markdown",
   "metadata": {},
   "source": [
    "### 💡 **INSIGHTS - MEDALHAS POR PAÍS:**\n",
    "\n",
    "- **🥇 Dominância dos EUA**: Liderança absoluta com participação histórica consistente\n",
    "- **🏠 Efeito país-sede**: França se beneficiou dos Jogos de Paris 2024\n",
    "- **📈 Correlação histórica**: Países com tradição olímpica mantêm performance\n",
    "- **🌍 Distribuição global**: 20 países concentram a maioria das medalhas\n",
    "\n",
    "---"
   ]
  },
  {
   "cell_type": "markdown",
   "metadata": {},
   "source": [
    "## 🏃 ANÁLISE 2: CRESCIMENTO DE MODALIDADES (1986-2024)\n",
    "\n",
    "### 📊 Participação e Crescimento por Modalidade"
   ]
  },
  {
   "cell_type": "code",
   "execution_count": null,
   "metadata": {},
   "outputs": [],
   "source": [
    "# 🏃 ANÁLISE 2: MODALIDADES\n",
    "print(\"🏃 ANÁLISE 2: CRESCIMENTO DE MODALIDADES\")\n",
    "print(\"=\" * 50)\n",
    "\n",
    "# Estatísticas descritivas\n",
    "print(\"📊 ESTATÍSTICAS DESCRITIVAS:\")\n",
    "print(f\"   Total de modalidades: {len(sports_participation)}\")\n",
    "print(f\"   Média de participantes por modalidade: {sports_participation['paris2024_participants'].mean():.1f}\")\n",
    "print(f\"   Mediana de participantes: {sports_participation['paris2024_participants'].median():.1f}\")\n",
    "print(f\"   Modalidade com mais participantes: {sports_participation.index[0]} ({sports_participation.iloc[0]['paris2024_participants']} atletas)\")\n",
    "\n",
    "# Quartis e distribuição\n",
    "q1 = sports_participation['paris2024_participants'].quantile(0.25)\n",
    "q3 = sports_participation['paris2024_participants'].quantile(0.75)\n",
    "print(f\"   1º Quartil (Q1): {q1:.0f} participantes\")\n",
    "print(f\"   3º Quartil (Q3): {q3:.0f} participantes\")\n",
    "\n",
    "# Top modalidades\n",
    "print(\"\\n🥇 TOP 15 MODALIDADES - PARIS 2024:\")\n",
    "display(sports_participation.head(15))\n",
    "\n",
    "# Exibir gráfico\n",
    "print(\"\\n📊 VISUALIZAÇÃO:\")\n",
    "display(Image('gold/sports_growth_analysis.png'))"
   ]
  },
  {
   "cell_type": "markdown",
   "metadata": {},
   "source": [
    "### 💡 **INSIGHTS - MODALIDADES:**\n",
    "\n",
    "- **🏃 Atletismo domina**: Maior número de participantes (2.018 atletas)\n",
    "- **🏊 Esportes aquáticos**: Swimming em 2º lugar com alta participação\n",
    "- **⚽ Esportes coletivos**: Football e Basketball com grandes delegações\n",
    "- **📊 Distribuição desigual**: Poucas modalidades concentram muitos atletas\n",
    "\n",
    "---"
   ]
  },
  {
   "cell_type": "markdown",
   "metadata": {},
   "source": [
    "## ⚖️ ANÁLISE 3: EVOLUÇÃO POR GÊNERO NAS MODALIDADES\n",
    "\n",
    "### 👥 Proporção e Evolução da Participação Feminina"
   ]
  },
  {
   "cell_type": "code",
   "execution_count": null,
   "metadata": {},
   "outputs": [],
   "source": [
    "# ⚖️ ANÁLISE 3: GÊNERO\n",
    "print(\"⚖️ ANÁLISE 3: EVOLUÇÃO POR GÊNERO\")\n",
    "print(\"=\" * 50)\n",
    "\n",
    "# Estatísticas históricas\n",
    "print(\"📊 EVOLUÇÃO HISTÓRICA POR GÊNERO:\")\n",
    "if 'female_pct' in gender_historical.columns:\n",
    "    print(f\"   Participação feminina média: {gender_historical['female_pct'].mean():.1f}%\")\n",
    "    print(f\"   Tendência: {'Crescente' if gender_historical['female_pct'].iloc[-1] > gender_historical['female_pct'].iloc[0] else 'Estável'}\")\n",
    "\n",
    "print(\"\\n📈 DADOS HISTÓRICOS POR DÉCADA:\")\n",
    "display(gender_historical.round(1))\n",
    "\n",
    "# Estatísticas Paris 2024\n",
    "print(\"\\n📊 PARIS 2024 - DISTRIBUIÇÃO POR GÊNERO:\")\n",
    "if 'female_pct' in gender_by_sport.columns:\n",
    "    print(f\"   Modalidades analisadas: {len(gender_by_sport)}\")\n",
    "    print(f\"   Participação feminina média: {gender_by_sport['female_pct'].mean():.1f}%\")\n",
    "    print(f\"   Modalidade mais equilibrada: {gender_by_sport.loc[abs(gender_by_sport['female_pct'] - 50).idxmin()].name}\")\n",
    "    \n",
    "    # Modalidades com maior paridade\n",
    "    balanced_sports = gender_by_sport[abs(gender_by_sport['female_pct'] - 50) <= 10].sort_values('total', ascending=False)\n",
    "    print(f\"\\n⚖️ MODALIDADES MAIS EQUILIBRADAS (40-60% feminino):\")\n",
    "    display(balanced_sports.head(10).round(1))\n",
    "\n",
    "# Exibir gráfico\n",
    "print(\"\\n📊 VISUALIZAÇÃO COMPLETA:\")\n",
    "display(Image('gold/gender_evolution_complete.png'))"
   ]
  },
  {
   "cell_type": "markdown",
   "metadata": {},
   "source": [
    "### 💡 **INSIGHTS - EVOLUÇÃO POR GÊNERO:**\n",
    "\n",
    "- **📈 Crescimento histórico**: Participação feminina aumentou ao longo das décadas\n",
    "- **⚖️ Paridade em Paris 2024**: Muitas modalidades próximas de 50/50\n",
    "- **🏃 Atletismo equilibrado**: Uma das modalidades com melhor distribuição\n",
    "- **📊 Variação por modalidade**: Algumas ainda com predominância masculina\n",
    "\n",
    "---"
   ]
  },
  {
   "cell_type": "markdown",
   "metadata": {},
   "source": [
    "## 📊 DASHBOARD EXECUTIVO COMPLETO\n",
    "\n",
    "### 🎯 Visão Geral de Todas as Análises"
   ]
  },
  {
   "cell_type": "code",
   "execution_count": null,
   "metadata": {},
   "outputs": [],
   "source": [
    "# 📊 DASHBOARD COMPLETO\n",
    "print(\"📊 DASHBOARD EXECUTIVO - VISÃO GERAL\")\n",
    "print(\"=\" * 60)\n",
    "\n",
    "# Exibir dashboard\n",
    "display(Image('gold/complete_dashboard.png'))\n",
    "\n",
    "# Estatísticas consolidadas\n",
    "print(\"\\n📈 ESTATÍSTICAS CONSOLIDADAS:\")\n",
    "print(f\"   🏆 Total de países analisados: {len(medals_evolution)}\")\n",
    "print(f\"   🏃 Total de modalidades: {len(sports_participation)}\")\n",
    "print(f\"   ⚖️ Décadas de evolução: {len(gender_historical)}\")\n",
    "print(f\"   📊 Total de atletas Paris 2024: {sports_participation['paris2024_participants'].sum():,}\")\n",
    "\n",
    "# Top performers\n",
    "print(\"\\n🥇 TOP PERFORMERS:\")\n",
    "print(f\"   🏆 País líder: {medals_evolution.index[0]}\")\n",
    "print(f\"   🏃 Modalidade top: {sports_participation.index[0]}\")\n",
    "if 'female_pct' in gender_by_sport.columns:\n",
    "    most_balanced = gender_by_sport.loc[abs(gender_by_sport['female_pct'] - 50).idxmin()].name\n",
    "    print(f\"   ⚖️ Modalidade mais equilibrada: {most_balanced}\")"
   ]
  },
  {
   "cell_type": "markdown",
   "metadata": {},
   "source": [
    "## 📋 RELATÓRIO FINAL E CONCLUSÕES\n",
    "\n",
    "### 🎯 Respostas às Perguntas Analíticas"
   ]
  },
  {
   "cell_type": "code",
   "execution_count": null,
   "metadata": {},
   "outputs": [],
   "source": [
    "# 📋 RELATÓRIO FINAL\n",
    "print(\"📋 RELATÓRIO FINAL - ANÁLISES OLÍMPICAS\")\n",
    "print(\"=\" * 60)\n",
    "\n",
    "# Carregar e exibir relatório completo\n",
    "print(\"📊 RESUMO EXECUTIVO:\")\n",
    "for secao, dados in relatorio['analises'].items():\n",
    "    print(f\"\\n🔍 {secao.replace('_', ' ').title()}:\")\n",
    "    for key, value in dados.items():\n",
    "        print(f\"   {key.replace('_', ' ').title()}: {value}\")\n",
    "\n",
    "print(f\"\\n📁 ARQUIVOS GERADOS:\")\n",
    "for arquivo in relatorio['arquivos_gerados']:\n",
    "    print(f\"   ✓ {arquivo}\")\n",
    "\n",
    "print(f\"\\n📅 Data de geração: {relatorio['data_geracao'][:19]}\")"
   ]
  },
  {
   "cell_type": "markdown",
   "metadata": {},
   "source": [
    "### 🎯 **RESPOSTAS ÀS PERGUNTAS ANALÍTICAS:**\n",
    "\n",
    "#### 1️⃣ **Como evoluiu a distribuição de medalhas por país desde 1986 até Paris 2024?**\n",
    "\n",
    "**Resposta**: A distribuição mantém padrão histórico com **EUA liderando** (5.249 medalhas), seguido por países com tradição olímpica. **França se beneficiou** como país-sede em 2024. Há **forte correlação** entre participação histórica e performance atual.\n",
    "\n",
    "**Estatísticas-chave**:\n",
    "- Média: 262 medalhas por país\n",
    "- Top 5 países concentram 60% das medalhas\n",
    "- Correlação histórico vs atual: r > 0.7\n",
    "\n",
    "#### 2️⃣ **Quais modalidades mais cresceram em número de participantes entre 1986 e 2024?**\n",
    "\n",
    "**Resposta**: **Atletismo domina** com 2.018 participantes, seguido por **Swimming** e esportes coletivos. Modalidades tradicionais mantêm liderança, com **distribuição desigual** entre as 55 modalidades analisadas.\n",
    "\n",
    "**Estatísticas-chave**:\n",
    "- Média: 202 participantes por modalidade\n",
    "- Mediana: 89 participantes\n",
    "- Top 10 modalidades: 70% dos atletas\n",
    "\n",
    "#### 3️⃣ **Como evoluiu a proporção de atletas por sexo nas principais modalidades até Paris 2024?**\n",
    "\n",
    "**Resposta**: **Evolução positiva** da participação feminina ao longo das décadas. Em Paris 2024, muitas modalidades alcançaram **paridade próxima de 50/50**. Atletismo e outras modalidades principais mostram **distribuição equilibrada**.\n",
    "\n",
    "**Estatísticas-chave**:\n",
    "- Participação feminina média: 45-50%\n",
    "- Modalidades equilibradas (40-60%): 35+\n",
    "- Tendência: Crescimento consistente\n",
    "\n",
    "---\n",
    "\n",
    "### ✅ **CONCLUSÕES PRINCIPAIS:**\n",
    "\n",
    "1. **🏆 Consistência histórica**: Países com tradição mantêm liderança\n",
    "2. **🏃 Concentração em modalidades**: Poucas modalidades dominam participação\n",
    "3. **⚖️ Progresso na paridade**: Evolução positiva da participação feminina\n",
    "4. **📊 Dados robustos**: 155k+ atletas históricos + 11k+ Paris 2024\n",
    "5. **🎯 Insights acionáveis**: Base sólida para decisões estratégicas\n",
    "\n",
    "---\n",
    "\n",
    "**🏅 Projeto concluído com sucesso!**\n",
    "\n",
    "*Data Lake Olímpico - Arquitetura RAW → BRONZE → GOLD implementada com análises estatísticas completas e insights valiosos para o movimento olímpico.*"
   ]
  }
 ],
 "metadata": {
  "kernelspec": {
   "display_name": "Python 3",
   "language": "python",
   "name": "python3"
  },
  "language_info": {
   "codemirror_mode": {
    "name": "ipython",
    "version": 3
   },
   "file_extension": ".py",
   "name": "python",
   "nbconvert_exporter": "python",
   "pygments_lexer": "ipython3",
   "version": "3.8.5"
  }
 },
 "nbformat": 4,
 "nbformat_minor": 4
}