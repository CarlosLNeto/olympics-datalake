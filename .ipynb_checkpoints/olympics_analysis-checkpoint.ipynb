{
 "cells": [
  {
   "cell_type": "markdown",
   "metadata": {},
   "source": [
    "# Análise dos Jogos Olímpicos (1896-2024)\n",
    "\n",
    "## Projeto de Ciência de Dados - Olympics Data Lake\n",
    "\n",
    "Este notebook apresenta a análise completa dos dados olímpicos utilizando uma arquitetura de data lake com camadas RAW, BRONZE e GOLD."
   ]
  },
  {
   "cell_type": "code",
   "execution_count": null,
   "metadata": {},
   "outputs": [],
   "source": [
    "# Importações necessárias\n",
    "import pandas as pd\n",
    "import matplotlib.pyplot as plt\n",
    "import seaborn as sns\n",
    "import json\n",
    "from datetime import datetime\n",
    "\n",
    "# Configurações de visualização\n",
    "plt.style.use('default')\n",
    "sns.set_palette(\"husl\")\n",
    "plt.rcParams['figure.figsize'] = (12, 6)"
   ]
  },
  {
   "cell_type": "markdown",
   "metadata": {},
   "source": [
    "## 1. Carregamento dos Dados (Camada Bronze)"
   ]
  },
  {
   "cell_type": "code",
   "execution_count": null,
   "metadata": {},
   "outputs": [],
   "source": [
    "# Carregar dados da camada Bronze\n",
    "medalhas = pd.read_parquet('bronze/medalhas_1986_2024.parquet')\n",
    "modalidades = pd.read_parquet('bronze/modalidades_1986_2024.parquet')\n",
    "atletas_sexo = pd.read_parquet('bronze/atletas_por_sexo.parquet')\n",
    "\n",
    "print(f\"Medalhas: {len(medalhas)} registros\")\n",
    "print(f\"Modalidades: {len(modalidades)} registros\")\n",
    "print(f\"Atletas por sexo: {len(atletas_sexo)} registros\")"
   ]
  },
  {
   "cell_type": "markdown",
   "metadata": {},
   "source": [
    "## 2. Análise Exploratória"
   ]
  },
  {
   "cell_type": "code",
   "execution_count": null,
   "metadata": {},
   "outputs": [],
   "source": [
    "# Visão geral dos dados de medalhas\n",
    "print(\"=== Estrutura dos Dados de Medalhas ===\")\n",
    "print(medalhas.info())\n",
    "print(\"\\n=== Primeiras linhas ===\")\n",
    "medalhas.head()"
   ]
  },
  {
   "cell_type": "markdown",
   "metadata": {},
   "source": [
    "## 3. Análise 1: Evolução das Medalhas ao Longo do Tempo"
   ]
  },
  {
   "cell_type": "code",
   "execution_count": null,
   "metadata": {},
   "outputs": [],
   "source": [
    "# Evolução das medalhas por ano\n",
    "medals_by_year = medalhas.groupby(['year', 'medal']).size().unstack(fill_value=0)\n",
    "medals_by_year['total'] = medals_by_year.sum(axis=1)\n",
    "\n",
    "# Visualização\n",
    "plt.figure(figsize=(14, 8))\n",
    "medals_by_year[['Gold', 'Silver', 'Bronze']].plot(kind='line', marker='o')\n",
    "plt.title('Evolução das Medalhas Olímpicas (1986-2024)', fontsize=16)\n",
    "plt.xlabel('Ano', fontsize=12)\n",
    "plt.ylabel('Número de Medalhas', fontsize=12)\n",
    "plt.legend(['Ouro', 'Prata', 'Bronze'], fontsize=12)\n",
    "plt.grid(True, alpha=0.3)\n",
    "plt.tight_layout()\n",
    "plt.show()\n",
    "\n",
    "# Estatísticas descritivas\n",
    "print(\"=== Estatísticas das Medalhas por Ano ===\")\n",
    "medals_by_year.describe()"
   ]
  },
  {
   "cell_type": "markdown",
   "metadata": {},
   "source": [
    "## 4. Análise 2: Performance por País"
   ]
  },
  {
   "cell_type": "code",
   "execution_count": null,
   "metadata": {},
   "outputs": [],
   "source": [
    "# Top 15 países por medalhas\n",
    "country_medals = medalhas.groupby(['country', 'medal']).size().unstack(fill_value=0)\n",
    "country_medals['total'] = country_medals.sum(axis=1)\n",
    "top_countries = country_medals.sort_values('total', ascending=False).head(15)\n",
    "\n",
    "# Visualização\n",
    "plt.figure(figsize=(14, 10))\n",
    "top_countries[['Gold', 'Silver', 'Bronze']].plot(kind='barh', stacked=True)\n",
    "plt.title('Top 15 Países - Distribuição de Medalhas (1986-2024)', fontsize=16)\n",
    "plt.xlabel('Número de Medalhas', fontsize=12)\n",
    "plt.legend(['Ouro', 'Prata', 'Bronze'], fontsize=12)\n",
    "plt.tight_layout()\n",
    "plt.show()\n",
    "\n",
    "# Tabela dos top 10\n",
    "print(\"=== Top 10 Países por Total de Medalhas ===\")\n",
    "top_countries.head(10)"
   ]
  },
  {
   "cell_type": "markdown",
   "metadata": {},
   "source": [
    "## 5. Análise 3: Participação por Gênero"
   ]
  },
  {
   "cell_type": "code",
   "execution_count": null,
   "metadata": {},
   "outputs": [],
   "source": [
    "# Evolução da participação por gênero\n",
    "gender_evolution = atletas_sexo.pivot(index='year', columns='gender', values='quantidade')\n",
    "gender_evolution['total'] = gender_evolution.sum(axis=1)\n",
    "gender_evolution['perc_feminino'] = (gender_evolution['F'] / gender_evolution['total']) * 100\n",
    "\n",
    "# Visualização\n",
    "fig, (ax1, ax2) = plt.subplots(1, 2, figsize=(16, 6))\n",
    "\n",
    "# Gráfico 1: Números absolutos\n",
    "gender_evolution[['M', 'F']].plot(kind='line', marker='o', ax=ax1)\n",
    "ax1.set_title('Participação por Gênero - Números Absolutos', fontsize=14)\n",
    "ax1.set_xlabel('Ano', fontsize=12)\n",
    "ax1.set_ylabel('Número de Atletas', fontsize=12)\n",
    "ax1.legend(['Masculino', 'Feminino'], fontsize=12)\n",
    "ax1.grid(True, alpha=0.3)\n",
    "\n",
    "# Gráfico 2: Percentual feminino\n",
    "gender_evolution['perc_feminino'].plot(kind='line', marker='o', ax=ax2, color='red')\n",
    "ax2.set_title('Evolução da Participação Feminina (%)', fontsize=14)\n",
    "ax2.set_xlabel('Ano', fontsize=12)\n",
    "ax2.set_ylabel('Percentual Feminino', fontsize=12)\n",
    "ax2.grid(True, alpha=0.3)\n",
    "\n",
    "plt.tight_layout()\n",
    "plt.show()\n",
    "\n",
    "# Estatísticas\n",
    "print(\"=== Evolução da Participação Feminina ===\")\n",
    "gender_evolution[['perc_feminino']].describe()"
   ]
  },
  {
   "cell_type": "markdown",
   "metadata": {},
   "source": [
    "## 6. Insights e Conclusões"
   ]
  },
  {
   "cell_type": "code",
   "execution_count": null,
   "metadata": {},
   "outputs": [],
   "source": [
    "# Principais insights\n",
    "print(\"=== PRINCIPAIS INSIGHTS ===\")\n",
    "print(f\"1. Período analisado: {medalhas['year'].min()} - {medalhas['year'].max()}\")\n",
    "print(f\"2. Total de medalhas: {len(medalhas)}\")\n",
    "print(f\"3. Países participantes: {medalhas['country'].nunique()}\")\n",
    "print(f\"4. Modalidades: {medalhas['sport'].nunique()}\")\n",
    "print(f\"5. País com mais medalhas: {top_countries.index[0]} ({top_countries.iloc[0]['total']} medalhas)\")\n",
    "print(f\"6. Participação feminina atual: {gender_evolution['perc_feminino'].iloc[-1]:.1f}%\")\n",
    "print(f\"7. Crescimento da participação feminina: {gender_evolution['perc_feminino'].iloc[-1] - gender_evolution['perc_feminino'].iloc[0]:.1f} pontos percentuais\")"
   ]
  },
  {
   "cell_type": "markdown",
   "metadata": {},
   "source": [
    "## 7. Exportação dos Resultados (Camada Gold)"
   ]
  },
  {
   "cell_type": "code",
   "execution_count": null,
   "metadata": {},
   "outputs": [],
   "source": [
    "# Salvar resultados na camada Gold\n",
    "import os\n",
    "os.makedirs('gold', exist_ok=True)\n",
    "\n",
    "# Salvar tabelas resumo\n",
    "medals_by_year.to_csv('gold/evolucao_medalhas_ano.csv')\n",
    "top_countries.to_csv('gold/top_paises_medalhas.csv')\n",
    "gender_evolution.to_csv('gold/participacao_genero.csv')\n",
    "\n",
    "print(\"Resultados salvos na pasta gold/\")\n",
    "print(\"- evolucao_medalhas_ano.csv\")\n",
    "print(\"- top_paises_medalhas.csv\")\n",
    "print(\"- participacao_genero.csv\")"
   ]
  }
 ],
 "metadata": {
  "kernelspec": {
   "display_name": "Python 3",
   "language": "python",
   "name": "python3"
  },
  "language_info": {
   "codemirror_mode": {
    "name": "ipython",
    "version": 3
   },
   "file_extension": ".py",
   "mimetype": "text/x-python",
   "name": "python",
   "nbconvert_exporter": "python",
   "pygments_lexer": "ipython3",
   "version": "3.8.5"
  }
 },
 "nbformat": 4,
 "nbformat_minor": 4
}
